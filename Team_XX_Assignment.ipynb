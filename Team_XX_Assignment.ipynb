{
 "cells": [
  {
   "cell_type": "code",
   "execution_count": null,
   "metadata": {},
   "outputs": [],
   "source": [
    "from IPython.display import display, Math, Latex\n",
    "\n",
    "import pandas as pd\n",
    "import numpy as np\n",
    "import numpy_financial as npf\n",
    "import yfinance as yf\n",
    "import matplotlib.pyplot as plt\n",
    "import random\n",
    "from datetime import datetime"
   ]
  },
  {
   "cell_type": "code",
   "execution_count": 14,
   "metadata": {},
   "outputs": [],
   "source": [
    "start_date = '2024-11-22'\n",
    "end_date = '2024-11-01'"
   ]
  },
  {
   "cell_type": "code",
   "execution_count": 15,
   "metadata": {},
   "outputs": [
    {
     "name": "stderr",
     "output_type": "stream",
     "text": [
      "404 Client Error: Not Found for url: https://query2.finance.yahoo.com/v10/finance/quoteSummary/SMAAPL?modules=financialData%2CquoteType%2CdefaultKeyStatistics%2CassetProfile%2CsummaryDetail&corsDomain=finance.yahoo.com&formatted=false&symbol=SMAAPL&crumb=k09Zpc2Od7S\n",
      "$SMAAPL: possibly delisted; no timezone found\n"
     ]
    },
    {
     "name": "stdout",
     "output_type": "stream",
     "text": [
      "Skipped Delisted:  smAAPL\n"
     ]
    },
    {
     "name": "stderr",
     "output_type": "stream",
     "text": [
      "$AGN: possibly delisted; no timezone found\n"
     ]
    },
    {
     "name": "stdout",
     "output_type": "stream",
     "text": [
      "Skipped Delisted:  AGN\n"
     ]
    },
    {
     "name": "stderr",
     "output_type": "stream",
     "text": [
      "$CELG: possibly delisted; no timezone found\n"
     ]
    },
    {
     "name": "stdout",
     "output_type": "stream",
     "text": [
      "Skipped Delisted:  CELG\n"
     ]
    },
    {
     "name": "stderr",
     "output_type": "stream",
     "text": [
      "$MON: possibly delisted; no timezone found\n"
     ]
    },
    {
     "name": "stdout",
     "output_type": "stream",
     "text": [
      "Skipped Delisted:  MON\n"
     ]
    },
    {
     "name": "stderr",
     "output_type": "stream",
     "text": [
      "$RTN: possibly delisted; no timezone found\n"
     ]
    },
    {
     "name": "stdout",
     "output_type": "stream",
     "text": [
      "Skipped Delisted:  RTN\n",
      "Skipped (Monthly volume not >= 100,000):  TRRVF\n",
      "Skipped non Canadian/American:  ^HSI\n",
      "['ABBV', 'ABT', 'ACN', 'AIG', 'AMZN', 'AXP', 'BA', 'BAC', 'BB.TO', 'BIIB', 'BK', 'BLK', 'BMY', 'C', 'CAT', 'CL', 'KO', 'LLY', 'LMT', 'MO', 'MRK', 'PEP', 'PFE', 'PG', 'PM', 'PYPL', 'QCOM', 'RY.TO', 'SHOP.TO', 'T.TO', 'TD.TO', 'TXN', 'UNH', 'UNP', 'UPS', 'USB', 'PPR.TO']\n"
     ]
    }
   ],
   "source": [
    "file = 'Tickers_Example.csv'\n",
    "df = pd.read_csv(file, header=None)\n",
    "tickers = df[0].tolist()\n",
    "valid_tickers = []\n",
    "\n",
    "vol_start_date = '2023-10-01'\n",
    "vol_end_date = '2024-09-30'\n",
    "min_days = 18\n",
    "min_vol = 100000\n",
    "currency1 = 'CAD'\n",
    "currency2 = 'USD'\n",
    "\n",
    "#filtering by assignment parameters\n",
    "for ticker in tickers:\n",
    "    t = yf.Ticker(ticker)\n",
    "    info = t.info\n",
    "    hist = t.history(start=vol_start_date, end=vol_end_date)\n",
    "    \n",
    "    if hist.empty: \n",
    "        print(\"Skipped Delisted: \", ticker)\n",
    "    \n",
    "    elif info.get(\"financialCurrency\") != currency1 and info.get(\"financialCurrency\") != currency2:\n",
    "        print(\"Skipped non Canadian/American: \", ticker)\n",
    "\n",
    "    elif ticker in valid_tickers:\n",
    "        print(\"Skipped Duplicate: \", ticker)\n",
    "\n",
    "    else:\n",
    "        monthly_dataframes = [data for _, data in hist.groupby(pd.Grouper(freq='MS'))]\n",
    "        valid_months = []\n",
    "\n",
    "    #checking if avg monthly volume over 100,000\n",
    "        volume = 0\n",
    "        months_counted = 0\n",
    "        for month in monthly_dataframes:\n",
    "            if not (len(month) < min_days):\n",
    "                volume += month['Volume'].sum()\n",
    "                months_counted += 1\n",
    "        if (volume/months_counted) < min_vol:\n",
    "            print(\"Skipped (Monthly volume not >= 100,000): \", ticker)\n",
    "        else:\n",
    "            valid_tickers.append(ticker)\n",
    "\n",
    "print(valid_tickers)"
   ]
  },
  {
   "cell_type": "code",
   "execution_count": 16,
   "metadata": {},
   "outputs": [],
   "source": [
    "def stock_weight(weight,close):\n",
    "    # weight is the decimal weight of a given stock (if stock A takes up 10% of the portfolio the weight is given as 0.1)\n",
    "    # close is the stock's close price on the day we buy it\n",
    "    \n",
    "    stock_num=0\n",
    "    fees=0\n",
    "    acc_stock_weight=0\n",
    "\n",
    "    # finds the amount of cash we can spend on a given stock\n",
    "    cost=1000000*weight\n",
    "\n",
    "    # fixed_snum will return the number of stocks we could buy given that the fee is the fixed $3.95\n",
    "    fixed_snum=(cost-3.95)/close\n",
    "    \n",
    "    # dyn_snum will return the number of stocks we could buy given that the fee is the dynamic $0.001 per stock\n",
    "    dyn_snum=cost/(0.001+close)\n",
    "\n",
    "    # if/else conditions will ensure the max amount of stocks is bought given the different fee options (allows us to keep the stock weight as close to original as possible\n",
    "    if fixed_snum>=dyn_snum:\n",
    "        stock_num=fixed_snum\n",
    "        fees=3.95\n",
    "    else:\n",
    "        stock_num=dyn_snum\n",
    "        fees=stock_num*0.001\n",
    "\n",
    "    # finds the new weight of the stock given that a portion of the original weight is dedicated to paying the trading fees\n",
    "    acc_stock_weight=(stock_num*close)/cost\n",
    "\n",
    "    # all the important info is returned as a list\n",
    "    return [stock_num,acc_stock_weight,fees]"
   ]
  },
  {
   "cell_type": "code",
   "execution_count": 17,
   "metadata": {},
   "outputs": [
    {
     "data": {
      "text/plain": [
       "4999.8025"
      ]
     },
     "execution_count": 17,
     "metadata": {},
     "output_type": "execute_result"
    }
   ],
   "source": [
    "# example of using stock_weight — DELETE LATER\n",
    "stock_weight(0.1,20)[0]"
   ]
  },
  {
   "cell_type": "code",
   "execution_count": 177,
   "metadata": {},
   "outputs": [],
   "source": [
    "test=pd.DataFrame({'stock': ['s1', 's2', 's3', 's4', 's5'], 'score':['4','3','1','2','5']})\n",
    "track=pd.DataFrame({'score':[80,60,40,30,90]}, index=['s1', 's2', 's3', 's4', 's5'])\n",
    "track\n",
    "beta=pd.DataFrame({'score':[4,2,1,3,5]}, index=['s1', 's2', 's3', 's4', 's5'])\n",
    "beta\n",
    "los=list(beta.index)"
   ]
  },
  {
   "cell_type": "code",
   "execution_count": 179,
   "metadata": {},
   "outputs": [],
   "source": [
    "# tracking is the DataFrame created by the function that calculates tracking error\n",
    "# beta is the DataFrame created by the function that calculates tracking error\n",
    "# los is the list of stocks (AFTER the pairs of best correlated stocks have been removed)\n",
    "    # los should be the same as the index column on BOTH tracking and beta dataframes\n",
    "def normalize_scores(tracking,beta,los):\n",
    "    # creating a dataframe that uses los as an index\n",
    "    rankeddf=pd.DataFrame(index=los)\n",
    "\n",
    "    # normalizing tracking and beta scores via max normalization\n",
    "    tracking['score']=tracking['score']/(tracking['score'].max())\n",
    "    beta['score']=beta['score']/(beta['score'].max())\n",
    "\n",
    "    # creating a list with the scores of each stock given its score in tracking & beta\n",
    "    # the score must be a decimal number between 0-1 inclusive\n",
    "\n",
    "    # initializing a list and iterator for the loop\n",
    "    score_lst=[]\n",
    "    i=0\n",
    "    # this loop will create a score for each stock based off of the normalized tracking and beta scores\n",
    "    # these scores are equally weighted and each score will be between 0-1\n",
    "    while i<len(los):\n",
    "        item_score=((tracking.loc[los[i],'score'])*0.5)+((beta.loc[los[i],'score'])*0.5)\n",
    "        score_lst.append(item_score)\n",
    "        i+=1\n",
    "\n",
    "    # adding the scores to the dataframe and ranking them so the best score is on top\n",
    "    rankeddf['score']=score_lst\n",
    "    rankeddf=rankeddf.sort_values(by='score', ascending=False)\n",
    "    return rankeddf"
   ]
  },
  {
   "cell_type": "code",
   "execution_count": 175,
   "metadata": {},
   "outputs": [
    {
     "data": {
      "text/html": [
       "<div>\n",
       "<style scoped>\n",
       "    .dataframe tbody tr th:only-of-type {\n",
       "        vertical-align: middle;\n",
       "    }\n",
       "\n",
       "    .dataframe tbody tr th {\n",
       "        vertical-align: top;\n",
       "    }\n",
       "\n",
       "    .dataframe thead th {\n",
       "        text-align: right;\n",
       "    }\n",
       "</style>\n",
       "<table border=\"1\" class=\"dataframe\">\n",
       "  <thead>\n",
       "    <tr style=\"text-align: right;\">\n",
       "      <th></th>\n",
       "      <th>score</th>\n",
       "    </tr>\n",
       "  </thead>\n",
       "  <tbody>\n",
       "    <tr>\n",
       "      <th>s5</th>\n",
       "      <td>1.000000</td>\n",
       "    </tr>\n",
       "    <tr>\n",
       "      <th>s1</th>\n",
       "      <td>0.844444</td>\n",
       "    </tr>\n",
       "    <tr>\n",
       "      <th>s2</th>\n",
       "      <td>0.533333</td>\n",
       "    </tr>\n",
       "    <tr>\n",
       "      <th>s4</th>\n",
       "      <td>0.466667</td>\n",
       "    </tr>\n",
       "    <tr>\n",
       "      <th>s3</th>\n",
       "      <td>0.322222</td>\n",
       "    </tr>\n",
       "  </tbody>\n",
       "</table>\n",
       "</div>"
      ],
      "text/plain": [
       "       score\n",
       "s5  1.000000\n",
       "s1  0.844444\n",
       "s2  0.533333\n",
       "s4  0.466667\n",
       "s3  0.322222"
      ]
     },
     "execution_count": 175,
     "metadata": {},
     "output_type": "execute_result"
    }
   ],
   "source": [
    "ranked=normalize_scores(track,beta,los)\n",
    "ranked"
   ]
  },
  {
   "cell_type": "code",
   "execution_count": 171,
   "metadata": {},
   "outputs": [],
   "source": [
    "# this portfolio determines the weighting of the portfolio based on the ranked scores\n",
    "# each stock will be weighted as the percentage of its score out of the sum of all the scores\n",
    "    # ie) stock_weight = stock_score/sum(list_of_stocks)\n",
    "def pf_weighting(rankeddf,score_lst):\n",
    "    # initializing a dataframe for stock weights\n",
    "    pf_weight=pd.DataFrame(index=score_lst)\n",
    "    sum_scores=rankeddf['score'].sum()\n",
    "\n",
    "    # initializing list for weights and iterator\n",
    "    weight_lst=[]\n",
    "    i=0\n",
    "    # function will create a list of weights for the given list of stocks\n",
    "    while i<len(score_lst):\n",
    "        item_weight=(rankeddf.loc[score_lst[i],'score'])/sum_scores\n",
    "        weight_lst.append(item_weight)\n",
    "        i+=1\n",
    "\n",
    "    # putting the list of weights into the dataframe\n",
    "    pf_weight['weight']=weight_lst\n",
    "    return pf_weight"
   ]
  },
  {
   "cell_type": "code",
   "execution_count": 173,
   "metadata": {},
   "outputs": [
    {
     "data": {
      "text/html": [
       "<div>\n",
       "<style scoped>\n",
       "    .dataframe tbody tr th:only-of-type {\n",
       "        vertical-align: middle;\n",
       "    }\n",
       "\n",
       "    .dataframe tbody tr th {\n",
       "        vertical-align: top;\n",
       "    }\n",
       "\n",
       "    .dataframe thead th {\n",
       "        text-align: right;\n",
       "    }\n",
       "</style>\n",
       "<table border=\"1\" class=\"dataframe\">\n",
       "  <thead>\n",
       "    <tr style=\"text-align: right;\">\n",
       "      <th></th>\n",
       "      <th>weight</th>\n",
       "    </tr>\n",
       "  </thead>\n",
       "  <tbody>\n",
       "    <tr>\n",
       "      <th>s5</th>\n",
       "      <td>0.315789</td>\n",
       "    </tr>\n",
       "    <tr>\n",
       "      <th>s1</th>\n",
       "      <td>0.266667</td>\n",
       "    </tr>\n",
       "    <tr>\n",
       "      <th>s2</th>\n",
       "      <td>0.168421</td>\n",
       "    </tr>\n",
       "    <tr>\n",
       "      <th>s4</th>\n",
       "      <td>0.147368</td>\n",
       "    </tr>\n",
       "    <tr>\n",
       "      <th>s3</th>\n",
       "      <td>0.101754</td>\n",
       "    </tr>\n",
       "  </tbody>\n",
       "</table>\n",
       "</div>"
      ],
      "text/plain": [
       "      weight\n",
       "s5  0.315789\n",
       "s1  0.266667\n",
       "s2  0.168421\n",
       "s4  0.147368\n",
       "s3  0.101754"
      ]
     },
     "execution_count": 173,
     "metadata": {},
     "output_type": "execute_result"
    }
   ],
   "source": [
    "pf_weighting(ranked,list(ranked.index))"
   ]
  }
 ],
 "metadata": {
  "kernelspec": {
   "display_name": "Python 3 (ipykernel)",
   "language": "python",
   "name": "python3"
  },
  "language_info": {
   "codemirror_mode": {
    "name": "ipython",
    "version": 3
   },
   "file_extension": ".py",
   "mimetype": "text/x-python",
   "name": "python",
   "nbconvert_exporter": "python",
   "pygments_lexer": "ipython3",
   "version": "3.12.4"
  }
 },
 "nbformat": 4,
 "nbformat_minor": 4
}
