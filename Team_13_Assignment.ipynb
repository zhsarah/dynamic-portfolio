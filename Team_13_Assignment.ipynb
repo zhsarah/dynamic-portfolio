{
 "cells": [
  {
   "cell_type": "code",
   "execution_count": null,
   "metadata": {},
   "outputs": [],
   "source": [
    "from IPython.display import display, Math, Latex\n",
    "\n",
    "import pandas as pd\n",
    "import numpy as np\n",
    "import numpy_financial as npf\n",
    "import yfinance as yf\n",
    "import matplotlib.pyplot as plt\n",
    "import random\n",
    "from datetime import datetime"
   ]
  },
  {
   "cell_type": "code",
   "execution_count": 2,
   "metadata": {},
   "outputs": [],
   "source": [
    "start_date = '2024-11-22'\n",
    "end_date = '2024-11-01'"
   ]
  },
  {
   "cell_type": "code",
   "execution_count": 3,
   "metadata": {},
   "outputs": [
    {
     "name": "stderr",
     "output_type": "stream",
     "text": [
      "$AGN: possibly delisted; no timezone found\n"
     ]
    },
    {
     "name": "stdout",
     "output_type": "stream",
     "text": [
      "Skipped Delisted:  AGN\n"
     ]
    },
    {
     "name": "stderr",
     "output_type": "stream",
     "text": [
      "$CELG: possibly delisted; no timezone found\n"
     ]
    },
    {
     "name": "stdout",
     "output_type": "stream",
     "text": [
      "Skipped Delisted:  CELG\n"
     ]
    },
    {
     "name": "stderr",
     "output_type": "stream",
     "text": [
      "$MON: possibly delisted; no timezone found\n"
     ]
    },
    {
     "name": "stdout",
     "output_type": "stream",
     "text": [
      "Skipped Delisted:  MON\n"
     ]
    },
    {
     "name": "stderr",
     "output_type": "stream",
     "text": [
      "$RTN: possibly delisted; no timezone found\n"
     ]
    },
    {
     "name": "stdout",
     "output_type": "stream",
     "text": [
      "Skipped Delisted:  RTN\n",
      "['AAPL', 'ABBV', 'ABT', 'ACN', 'AIG', 'AMZN', 'AXP', 'BA', 'BAC', 'BB.TO', 'BIIB', 'BK', 'BLK', 'BMY', 'C', 'CAT', 'CL', 'KO', 'LLY', 'LMT', 'MO', 'MRK', 'PEP', 'PFE', 'PG', 'PM', 'PYPL', 'QCOM', 'RY.TO', 'SHOP.TO', 'T.TO', 'TD.TO', 'TXN', 'UNH', 'UNP', 'UPS', 'USB']\n"
     ]
    }
   ],
   "source": [
    "file = 'Tickers_Example.csv'\n",
    "df = pd.read_csv(file, header=None)\n",
    "tickers = df[0].tolist()\n",
    "valid_tickers = []\n",
    "t_prices = {}\n",
    "\n",
    "vol_start_date = '2023-10-01'\n",
    "vol_end_date = '2024-09-30'\n",
    "min_days = 18\n",
    "min_vol = 100000\n",
    "currency1 = 'CAD'\n",
    "currency2 = 'USD'\n",
    "\n",
    "#filtering by assignment parameters\n",
    "for ticker in tickers:\n",
    "    t = yf.Ticker(ticker)\n",
    "    info = t.info\n",
    "    hist = t.history(start=vol_start_date, end=vol_end_date)\n",
    "    \n",
    "    if hist.empty: \n",
    "        print(\"Skipped Delisted: \", ticker)\n",
    "    \n",
    "    elif info.get(\"financialCurrency\") != currency1 and info.get(\"financialCurrency\") != currency2:\n",
    "        print(\"Skipped non Canadian/American: \", ticker)\n",
    "\n",
    "    elif ticker in valid_tickers:\n",
    "        print(\"Skipped Duplicate: \", ticker)\n",
    "\n",
    "    else:\n",
    "        monthly_dataframes = [data for _, data in hist.groupby(pd.Grouper(freq='MS'))]\n",
    "        valid_months = []\n",
    "\n",
    "    #checking if avg monthly volume over 100,000\n",
    "        volume = 0\n",
    "        months_counted = 0\n",
    "        for month in monthly_dataframes:\n",
    "            if not (len(month) < min_days):\n",
    "                volume += month['Volume'].sum()\n",
    "                months_counted += 1\n",
    "        if (volume/months_counted) < min_vol:\n",
    "            print(\"Skipped (Monthly volume not >= 100,000): \", ticker)\n",
    "        else:\n",
    "            valid_tickers.append(ticker)\n",
    "            t_prices[ticker] = hist\n",
    "\n",
    "print(valid_tickers)"
   ]
  },
  {
   "cell_type": "code",
   "execution_count": 15,
   "metadata": {},
   "outputs": [
    {
     "name": "stdout",
     "output_type": "stream",
     "text": [
      "{'UNH': -0.14709669459116836, 'LMT': -0.10777692408064499, 'KO': -0.020211684288452544, 'PG': 0.07784304727882323, 'ABBV': 0.24815192481576787, 'CL': 0.2843301493449392, 'ABT': 0.3044774911392439, 'PEP': 0.33422523485608535, 'PFE': 0.3471572082035393, 'T.TO': 0.3849923844533066, 'PM': 0.38739151148497064, 'MRK': 0.5442050548675047, 'MO': 0.6325242974762901, 'BMY': 0.6869397522191407, 'LLY': 0.6940268089523296, 'AAPL': 0.9192449194595208, 'TD.TO': 0.9417337748902963, 'RY.TO': 0.9779627145311078, 'UNP': 0.9849670666759541, 'ACN': 0.9854820739201312, 'AIG': 1.0535135258883734, 'BB.TO': 1.099256341824482, 'BK': 1.0996485502312965, 'CAT': 1.2406181191282946, 'BIIB': 1.2957231928118889, 'UPS': 1.4292542702619124, 'AXP': 1.4359516071433776, 'PYPL': 1.4466765564639739, 'AMZN': 1.4527059466216599, 'BA': 1.5616207722536062, 'TXN': 1.5781311832169054, 'BLK': 1.5813199998532177, 'BAC': 1.7997001558042436, 'QCOM': 1.904451498999726, 'C': 1.9782363685222677, 'USB': 1.9926063581307947, 'SHOP.TO': 2.7554190443465187}\n"
     ]
    }
   ],
   "source": [
    "# combining the two indexes\n",
    "start_date = '2023-09-01'\n",
    "end_date = '2024-09-01'\n",
    "\n",
    "benchmark_sp500 = '^GSPC'\n",
    "benchmark_tsx60 = 'XIU.TO'\n",
    "\n",
    "sp500_data = yf.Ticker(benchmark_sp500)\n",
    "tsx60_data = yf.Ticker(benchmark_tsx60)\n",
    "\n",
    "sp500_hist = sp500_data.history(start=start_date, end=end_date, interval=\"1d\")\n",
    "tsx60_hist = tsx60_data.history(start=start_date, end=end_date, interval=\"1d\")\n",
    "\n",
    "sp500_hist['Weekly Return'] = sp500_hist['Close'].resample('W-FRI').ffill().pct_change()\n",
    "tsx60_hist['Weekly Return'] = tsx60_hist['Close'].resample('W-FRI').ffill().pct_change()\n",
    "\n",
    "combined_benchmark = pd.DataFrame({\n",
    "    'SP500 Weekly Return': sp500_hist['Weekly Return'],\n",
    "    'TSX60 Weekly Return': tsx60_hist['Weekly Return']\n",
    "})\n",
    "combined_benchmark['Combined Weekly Return'] = combined_benchmark.mean(axis=1)\n",
    "\n",
    "market_weekly_returns = combined_benchmark['Combined Weekly Return']\n",
    "\n",
    "def get_beta(ticker, price, market_returns):\n",
    "    prices = pd.DataFrame(price['Close'])\n",
    "    prices.columns = [ticker]\n",
    "\n",
    "    weekly_prices = prices.resample('W-FRI').ffill()\n",
    "    weekly_returns = weekly_prices.pct_change(fill_method=None).dropna()\n",
    "\n",
    "    aligned_data = pd.concat([weekly_returns[ticker], market_returns], axis=1).dropna()\n",
    "    aligned_data.columns = [ticker, 'Market']\n",
    "\n",
    "    market_variance = aligned_data['Market'].var()\n",
    "    beta = aligned_data.cov().iat[0, 1] / market_variance\n",
    "    return beta\n",
    "\n",
    "t_betas = []\n",
    "for ticker in valid_tickers:\n",
    "    temp = get_beta(ticker, t_prices.get(ticker), market_weekly_returns)\n",
    "    t_betas.append([ticker, temp])\n",
    "\n",
    "tdict_betas = dict(t_betas)\n",
    "\n",
    "print(tdict_betas)"
   ]
  },
  {
   "cell_type": "code",
   "execution_count": null,
   "metadata": {},
   "outputs": [],
   "source": [
    "def stock_weight(weight,close):\n",
    "    # weight is the decimal weight of a given stock (if stock A takes up 10% of the portfolio the weight is given as 0.1)\n",
    "    # close is the stock's close price on the day we buy it\n",
    "    \n",
    "    stock_num=0\n",
    "    fees=0\n",
    "    acc_stock_weight=0\n",
    "\n",
    "    # finds the amount of cash we can spend on a given stock\n",
    "    cost=1000000*weight\n",
    "\n",
    "    # fixed_snum will return the number of stocks we could buy given that the fee is the fixed $3.95\n",
    "    fixed_snum=(cost-3.95)/close\n",
    "    \n",
    "    # dyn_snum will return the number of stocks we could buy given that the fee is the dynamic $0.001 per stock\n",
    "    dyn_snum=cost/(0.001+close)\n",
    "\n",
    "    # if/else conditions will ensure the max amount of stocks is bought given the different fee options (allows us to keep the stock weight as close to original as possible\n",
    "    if fixed_snum>=dyn_snum:\n",
    "        stock_num=fixed_snum\n",
    "        fees=3.95\n",
    "    else:\n",
    "        stock_num=dyn_snum\n",
    "        fees=stock_num*0.001\n",
    "\n",
    "    # finds the new weight of the stock given that a portion of the original weight is dedicated to paying the trading fees\n",
    "    acc_stock_weight=(stock_num*close)/cost\n",
    "\n",
    "    # all the important info is returned as a list\n",
    "    return [stock_num,acc_stock_weight,fees]"
   ]
  },
  {
   "cell_type": "code",
   "execution_count": null,
   "metadata": {},
   "outputs": [],
   "source": [
    "# example of using stock_weight — DELETE LATER\n",
    "stock_weight(0.1,20)[0]"
   ]
  },
  {
   "cell_type": "code",
   "execution_count": null,
   "metadata": {},
   "outputs": [],
   "source": [
    "test=pd.DataFrame({'stock': ['s1', 's2', 's3', 's4', 's5'], 'score':['4','3','1','2','5']})\n",
    "track=pd.DataFrame({'score':[80,60,40,30,90]}, index=['s1', 's2', 's3', 's4', 's5'])\n",
    "track\n",
    "beta=pd.DataFrame({'score':[4,2,1,3,5]}, index=['s1', 's2', 's3', 's4', 's5'])\n",
    "beta\n",
    "los=list(beta.index)"
   ]
  },
  {
   "cell_type": "code",
   "execution_count": null,
   "metadata": {},
   "outputs": [],
   "source": [
    "# tracking is the DataFrame created by the function that calculates tracking error\n",
    "# beta is the DataFrame created by the function that calculates tracking error\n",
    "# los is the list of stocks (AFTER the pairs of best correlated stocks have been removed)\n",
    "    # los should be the same as the index column on BOTH tracking and beta dataframes\n",
    "def normalize_scores(tracking,beta,los):\n",
    "    # creating a dataframe that uses los as an index\n",
    "    rankeddf=pd.DataFrame(index=los)\n",
    "\n",
    "    # normalizing tracking and beta scores via max normalization\n",
    "    tracking['score']=tracking['score']/(tracking['score'].max())\n",
    "    beta['score']=beta['score']/(beta['score'].max())\n",
    "\n",
    "    # creating a list with the scores of each stock given its score in tracking & beta\n",
    "    # the score must be a decimal number between 0-1 inclusive\n",
    "\n",
    "    # initializing a list and iterator for the loop\n",
    "    score_lst=[]\n",
    "    i=0\n",
    "    # this loop will create a score for each stock based off of the normalized tracking and beta scores\n",
    "    # these scores are equally weighted and each score will be between 0-1\n",
    "    while i<len(los):\n",
    "        item_score=((tracking.loc[los[i],'score'])*0.5)+((beta.loc[los[i],'score'])*0.5)\n",
    "        score_lst.append(item_score)\n",
    "        i+=1\n",
    "\n",
    "    # adding the scores to the dataframe and ranking them so the best score is on top\n",
    "    rankeddf['score']=score_lst\n",
    "    rankeddf=rankeddf.sort_values(by='score', ascending=False)\n",
    "    return rankeddf"
   ]
  },
  {
   "cell_type": "code",
   "execution_count": null,
   "metadata": {},
   "outputs": [],
   "source": [
    "ranked=normalize_scores(track,beta,los)\n",
    "ranked"
   ]
  },
  {
   "cell_type": "code",
   "execution_count": null,
   "metadata": {},
   "outputs": [],
   "source": [
    "# this portfolio determines the weighting of the portfolio based on the ranked scores\n",
    "# each stock will be weighted as the percentage of its score out of the sum of all the scores\n",
    "    # ie) stock_weight = stock_score/sum(list_of_stocks)\n",
    "def pf_weighting(rankeddf,score_lst):\n",
    "    # initializing a dataframe for stock weights\n",
    "    pf_weight=pd.DataFrame(index=score_lst)\n",
    "    sum_scores=rankeddf['score'].sum()\n",
    "\n",
    "    # initializing list for weights and iterator\n",
    "    weight_lst=[]\n",
    "    i=0\n",
    "    # function will create a list of weights for the given list of stocks\n",
    "    while i<len(score_lst):\n",
    "        item_weight=(rankeddf.loc[score_lst[i],'score'])/sum_scores\n",
    "        weight_lst.append(item_weight)\n",
    "        i+=1\n",
    "\n",
    "    # putting the list of weights into the dataframe\n",
    "    pf_weight['weight']=weight_lst\n",
    "    return pf_weight"
   ]
  },
  {
   "cell_type": "code",
   "execution_count": null,
   "metadata": {},
   "outputs": [],
   "source": [
    "pf_weighting(ranked,list(ranked.index))"
   ]
  },
  {
   "cell_type": "markdown",
   "metadata": {},
   "source": [
    "## Contribution Declaration\n",
    "\n",
    "The following team members made a meaningful contribution to this assignment:\n",
    "\n",
    "Insert Names Here."
   ]
  }
 ],
 "metadata": {
  "kernelspec": {
   "display_name": "Python 3 (ipykernel)",
   "language": "python",
   "name": "python3"
  },
  "language_info": {
   "codemirror_mode": {
    "name": "ipython",
    "version": 3
   },
   "file_extension": ".py",
   "mimetype": "text/x-python",
   "name": "python",
   "nbconvert_exporter": "python",
   "pygments_lexer": "ipython3",
   "version": "3.12.3"
  }
 },
 "nbformat": 4,
 "nbformat_minor": 4
}
